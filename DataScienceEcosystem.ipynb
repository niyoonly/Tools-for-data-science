{
 "cells": [
  {
   "cell_type": "markdown",
   "id": "2abb4972-1b71-4f2e-8a5a-b4ef7208c303",
   "metadata": {},
   "source": [
    "# Data science Tools and Ecosystem"
   ]
  },
  {
   "cell_type": "markdown",
   "id": "4162b993-e360-42a9-bdd9-79fb40548edf",
   "metadata": {},
   "source": [
    "In this notebook, Data Science Tools and Ecosystem are summarised."
   ]
  },
  {
   "cell_type": "markdown",
   "id": "c54c9caa-d288-42cd-b7a7-e608ba2c0695",
   "metadata": {},
   "source": [
    "Some of the popular languages that Data Scientists use are:\n",
    "1. Python\n",
    "2. R \n",
    "3. SQL\n",
    "4. Julia\n",
    "5. JavaScript\n",
    "6. PHP\n",
    "7. Ruby\n",
    "8. Visual Basic\n",
    "9. C++\n",
    "10. Scala"
   ]
  },
  {
   "cell_type": "markdown",
   "id": "fdbeb52f-0d2e-4743-823d-c36bc955b5f6",
   "metadata": {},
   "source": [
    "Some of the commonly used Libraries used by Data Scientists include:\n",
    "1. Panda ( Data structures and tools)\n",
    "2. NumPy (Arrays and matrices)\n",
    "3. Matlotlib (plits and graphs most popular)\n",
    "4. Seaborn (plots : heat maps, time seriers, violin plots)\n",
    "5. Scikit-learn (machine learning)\n",
    "7. Keras (deep learning machine)\n",
    "8. TensorFlow(deep learning : Production and deployment)\n",
    "9. PyTorch(Deep learning: regression, classification)\n",
    "10. Apache Spark (cluster - computing framework)"
   ]
  },
  {
   "cell_type": "markdown",
   "id": "3d7f9ba6-c49b-4ea7-b192-5b87252ec245",
   "metadata": {},
   "source": [
    "|Data Science Tools|\n",
    "|------------------|\n",
    "|IBM Watson Studio|\n",
    "|Jupyter|\n",
    "|R Studio|\n",
    "|Spyder|\n"
   ]
  },
  {
   "cell_type": "markdown",
   "id": "34f5f917-3d12-4ba2-bb6e-fce7384bfe4c",
   "metadata": {},
   "source": [
    "### Below are a few examples of evaluating aritmetic expressions in Python"
   ]
  },
  {
   "cell_type": "code",
   "execution_count": 19,
   "id": "7a6089f8-859f-4a92-a797-7270d13547ae",
   "metadata": {},
   "outputs": [
    {
     "data": {
      "text/plain": [
       "17"
      ]
     },
     "execution_count": 19,
     "metadata": {},
     "output_type": "execute_result"
    }
   ],
   "source": [
    "#This a simple arithmetic expression to multiply then add integers\n",
    "(3*4)+5"
   ]
  },
  {
   "cell_type": "code",
   "execution_count": 21,
   "id": "5b2e05ad-998c-4577-90b6-7564b1902050",
   "metadata": {},
   "outputs": [
    {
     "data": {
      "text/plain": [
       "3.3333333333333335"
      ]
     },
     "execution_count": 21,
     "metadata": {},
     "output_type": "execute_result"
    }
   ],
   "source": [
    "#This will convert 200 minutes to hours by dividing by 60\n",
    "200 / 60"
   ]
  },
  {
   "cell_type": "markdown",
   "id": "62568982-f743-434b-b032-b01c8f5bb152",
   "metadata": {},
   "source": [
    "**Objectives:**"
   ]
  },
  {
   "cell_type": "markdown",
   "id": "1e158aa4-b2a4-4fa8-a05d-905309dc027f",
   "metadata": {},
   "source": [
    "* List popular languages for Data Science\n",
    "* Popular Development tools for Data Science\n",
    "* List of some popular library used for Data Science\n",
    "* Using markdown and code cells in Jupyter\n",
    "* Using aritmetic expression in Jupyter notebook\n",
    "\n",
    "    "
   ]
  },
  {
   "cell_type": "markdown",
   "id": "8247fee9-bbf3-4a56-b8f9-703493aaae8f",
   "metadata": {},
   "source": [
    "## Author\n",
    "Ryazania Utami"
   ]
  },
  {
   "cell_type": "code",
   "execution_count": null,
   "id": "32836f16-cf4b-40c3-8709-fb2a20252922",
   "metadata": {},
   "outputs": [],
   "source": []
  }
 ],
 "metadata": {
  "kernelspec": {
   "display_name": "Python 3 (ipykernel)",
   "language": "python",
   "name": "python3"
  },
  "language_info": {
   "codemirror_mode": {
    "name": "ipython",
    "version": 3
   },
   "file_extension": ".py",
   "mimetype": "text/x-python",
   "name": "python",
   "nbconvert_exporter": "python",
   "pygments_lexer": "ipython3",
   "version": "3.11.7"
  }
 },
 "nbformat": 4,
 "nbformat_minor": 5
}
