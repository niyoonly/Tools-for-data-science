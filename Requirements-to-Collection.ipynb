Author
Alex Aklson

Change Log
Date (YYYY-MM-DD)	Version	Changed By	Change Description
2021-04-06	2.1	Malika	Updated lab link
2020-09-25	2.0	Lakshmi	Fixed Typo errors
2020-08-27	2.0	Lavanya	Moved lab to course repo in GitLab

